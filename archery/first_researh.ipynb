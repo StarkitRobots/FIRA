{
 "cells": [
  {
   "cell_type": "code",
   "execution_count": 250,
   "metadata": {},
   "outputs": [],
   "source": [
    "import cv2\n",
    "import numpy as np\n",
    "import math"
   ]
  },
  {
   "cell_type": "code",
   "execution_count": 254,
   "metadata": {},
   "outputs": [
    {
     "data": {
      "text/plain": [
       "True"
      ]
     },
     "execution_count": 254,
     "metadata": {},
     "output_type": "execute_result"
    }
   ],
   "source": [
    "#Получить изображение из файла\n",
    "img = cv2.imread('Final_for_bag.png',0)\n",
    "#Фильтрация изображения\n",
    "img = cv2.medianBlur(img,5)\n",
    "img = cv2.medianBlur(img,5)\n",
    "img = cv2.GaussianBlur(img,(11,11),10)\n",
    "cimg = cv2.cvtColor(img,cv2.COLOR_GRAY2BGR)\n",
    "\n",
    "\n",
    "cv2.imwrite('5.png',img)\n",
    "cv2.imwrite('10.png',img2)"
   ]
  },
  {
   "cell_type": "code",
   "execution_count": 255,
   "metadata": {},
   "outputs": [],
   "source": [
    "circles = cv2.HoughCircles(img,cv2.HOUGH_GRADIENT,2,0.001,param1=40,param2=170,minRadius=1,maxRadius=500)\n",
    "\n"
   ]
  },
  {
   "cell_type": "code",
   "execution_count": 256,
   "metadata": {},
   "outputs": [
    {
     "name": "stdout",
     "output_type": "stream",
     "text": [
      "[[[647 381 182]\n",
      "  [645 365 186]\n",
      "  [643 383 186]\n",
      "  [645 371 180]\n",
      "  [643 363 183]\n",
      "  [643 375 178]\n",
      "  [631 389 194]\n",
      "  [621 381 190]\n",
      "  [653 385 193]\n",
      "  [627 385 180]\n",
      "  [659 387 171]]]\n"
     ]
    }
   ],
   "source": [
    "b = 0\n",
    "circles = np.uint16(np.around(circles))\n",
    "for i in circles[0,:]:\n",
    "    # нарисовать окружности\n",
    "    cv2.circle(cimg,(i[0],i[1]),i[2],(0,255,0),2)\n",
    "    # нарисовать центры окружностей\n",
    "    cv2.circle(cimg,(i[0],i[1]),2,(0,255,0),3)\n",
    "    b +=1\n",
    "\n",
    "cv2.imwrite('Circles.png',cimg)\n",
    "print(circles)"
   ]
  },
  {
   "cell_type": "code",
   "execution_count": 237,
   "metadata": {},
   "outputs": [
    {
     "data": {
      "text/plain": [
       "(1, 11, 3)"
      ]
     },
     "execution_count": 237,
     "metadata": {},
     "output_type": "execute_result"
    }
   ],
   "source": [
    "circles.shape"
   ]
  },
  {
   "cell_type": "code",
   "execution_count": 247,
   "metadata": {},
   "outputs": [
    {
     "name": "stdout",
     "output_type": "stream",
     "text": [
      "183\n"
     ]
    }
   ],
   "source": [
    "circles = circles.reshape(circles[0].shape) \n",
    "circles_mean = np.mean(circles, axis = 0)\n",
    "circles_mean  = np.uint16(np.around(circles_mean))\n",
    "cv2.circle(cimg,(circles_mean[0],circles_mean[1]),i[2],(0,0,255),3)\n",
    "cv2.circle(cimg,(circles_mean[0],circles_mean[1]),2,(0,0,255),2)\n",
    "cv2.imwrite('Circles.png',cimg)\n",
    "print(i[2])"
   ]
  },
  {
   "cell_type": "code",
   "execution_count": 229,
   "metadata": {},
   "outputs": [
    {
     "data": {
      "text/plain": [
       "array([644, 367, 182], dtype=uint16)"
      ]
     },
     "execution_count": 229,
     "metadata": {},
     "output_type": "execute_result"
    }
   ],
   "source": [
    "cv2.circle(cimg,(i[0],i[1]),2,(0,255,0),3)\n",
    "    b +=1\n",
    "\n",
    "cv2.imwrite('Circles.png',cimg)\n",
    "print(circles)"
   ]
  },
  {
   "cell_type": "code",
   "execution_count": 262,
   "metadata": {},
   "outputs": [],
   "source": [
    "def scalarh(x1,y1,x2,y2,x3,y3):\n",
    "    x2 = math.fabs(x1-x2)\n",
    "    \n",
    "    x3 = math.fabs(x1-x3)\n",
    "    y2 = math.fabs(y1-y2)\n",
    "    y3 = math.fabs(y1-y3)\n",
    "    \n",
    "    s = (x2*x3+y2*y3)\n",
    "    print('s = ', s)\n",
    "    f = (math.sqrt(x2**2+y2**2)* math.sqrt(x3**2+y3**2))\n",
    "    print('f = ', f)\n",
    "    s = s/f\n",
    "    \n",
    "    return math.acos(s) "
   ]
  },
  {
   "cell_type": "markdown",
   "metadata": {},
   "source": [
    "r = 30 cm "
   ]
  },
  {
   "cell_type": "code",
   "execution_count": 263,
   "metadata": {},
   "outputs": [
    {
     "name": "stdout",
     "output_type": "stream",
     "text": [
      "s =  0.0\n",
      "f =  12.0\n"
     ]
    },
    {
     "data": {
      "text/plain": [
       "1.5707963267948966"
      ]
     },
     "execution_count": 263,
     "metadata": {},
     "output_type": "execute_result"
    }
   ],
   "source": [
    "scalarh(0,0,4,0,0,3)"
   ]
  },
  {
   "cell_type": "code",
   "execution_count": 56,
   "metadata": {},
   "outputs": [],
   "source": [
    "circles = circles.reshape(12,3) \n",
    "circles_mean = np.mean(circles, axis = 0)"
   ]
  },
  {
   "cell_type": "code",
   "execution_count": 89,
   "metadata": {},
   "outputs": [],
   "source": [
    "#Получить изображение из файла\n",
    "img = cv2.imread('2.jpg',0)\n",
    "#Фильтрация изображения\n",
    "img = cv2.medianBlur(img,5)\n",
    "cimg = cv2.cvtColor(img,cv2.COLOR_GRAY2BGR)\n",
    "\n",
    "\n",
    "circles = cv2.HoughCircles(img,cv2.HOUGH_GRADIENT,1,0.1,param1=80,param2=90,minRadius=10,maxRadius=200)\n",
    "\n",
    "circles = np.uint16(np.around(circles))\n"
   ]
  },
  {
   "cell_type": "code",
   "execution_count": 96,
   "metadata": {},
   "outputs": [],
   "source": [
    "bag = np.uint16(np.around(bag))\n",
    "bag1 = cv2.imread('nn.jpg',0)\n",
    "#Фильтрация изображения\n",
    "\n",
    "bag1 = cv2.cvtColor(bag1,cv2.COLOR_GRAY2BGR)"
   ]
  },
  {
   "cell_type": "code",
   "execution_count": 97,
   "metadata": {},
   "outputs": [
    {
     "data": {
      "text/plain": [
       "True"
      ]
     },
     "execution_count": 97,
     "metadata": {},
     "output_type": "execute_result"
    }
   ],
   "source": [
    "circles = circles.reshape(12,3) \n",
    "circles_mean = np.mean(circles, axis = 0)\n",
    "circles_mean  = np.uint16(np.around(circles_mean))\n",
    "\n",
    "cv2.circle(bag1,(circles_mean[0],circles_mean[1]),8,(0,0,255),3)\n",
    "cv2.imwrite('Circles.png',bag1)"
   ]
  },
  {
   "cell_type": "code",
   "execution_count": 69,
   "metadata": {},
   "outputs": [
    {
     "data": {
      "text/plain": [
       "(12, 3)"
      ]
     },
     "execution_count": 69,
     "metadata": {},
     "output_type": "execute_result"
    }
   ],
   "source": [
    "circles[0].shape"
   ]
  },
  {
   "cell_type": "code",
   "execution_count": 85,
   "metadata": {},
   "outputs": [
    {
     "data": {
      "text/plain": [
       "array([[[0, 0, 0],\n",
       "        [0, 0, 0],\n",
       "        [0, 0, 0],\n",
       "        ...,\n",
       "        [0, 0, 0],\n",
       "        [0, 0, 0],\n",
       "        [0, 0, 0]],\n",
       "\n",
       "       [[0, 0, 0],\n",
       "        [0, 0, 0],\n",
       "        [0, 0, 0],\n",
       "        ...,\n",
       "        [0, 0, 0],\n",
       "        [0, 0, 0],\n",
       "        [0, 0, 0]],\n",
       "\n",
       "       [[0, 0, 0],\n",
       "        [0, 0, 0],\n",
       "        [0, 0, 0],\n",
       "        ...,\n",
       "        [0, 0, 0],\n",
       "        [0, 0, 0],\n",
       "        [0, 0, 0]],\n",
       "\n",
       "       ...,\n",
       "\n",
       "       [[0, 0, 0],\n",
       "        [0, 0, 0],\n",
       "        [0, 0, 0],\n",
       "        ...,\n",
       "        [0, 0, 0],\n",
       "        [0, 0, 0],\n",
       "        [0, 0, 0]],\n",
       "\n",
       "       [[0, 0, 0],\n",
       "        [0, 0, 0],\n",
       "        [0, 0, 0],\n",
       "        ...,\n",
       "        [0, 0, 0],\n",
       "        [0, 0, 0],\n",
       "        [0, 0, 0]],\n",
       "\n",
       "       [[0, 0, 0],\n",
       "        [0, 0, 0],\n",
       "        [0, 0, 0],\n",
       "        ...,\n",
       "        [0, 0, 0],\n",
       "        [0, 0, 0],\n",
       "        [0, 0, 0]]], dtype=uint16)"
      ]
     },
     "execution_count": 85,
     "metadata": {},
     "output_type": "execute_result"
    }
   ],
   "source": [
    "bag"
   ]
  },
  {
   "cell_type": "code",
   "execution_count": null,
   "metadata": {},
   "outputs": [],
   "source": []
  }
 ],
 "metadata": {
  "kernelspec": {
   "display_name": "Python 3",
   "language": "python",
   "name": "python3"
  },
  "language_info": {
   "codemirror_mode": {
    "name": "ipython",
    "version": 3
   },
   "file_extension": ".py",
   "mimetype": "text/x-python",
   "name": "python",
   "nbconvert_exporter": "python",
   "pygments_lexer": "ipython3",
   "version": "3.7.2"
  }
 },
 "nbformat": 4,
 "nbformat_minor": 2
}
