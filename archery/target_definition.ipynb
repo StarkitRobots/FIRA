{
 "cells": [
  {
   "cell_type": "code",
   "execution_count": 28,
   "metadata": {},
   "outputs": [
    {
     "name": "stdout",
     "output_type": "stream",
     "text": [
      "24.98819720779659\n"
     ]
    }
   ],
   "source": [
    "import cv2\n",
    "import numpy as np\n",
    "cap = cv2.VideoCapture(\"result_720.mp4\")\n",
    "fps = cap.get(cv2.CAP_PROP_FPS)\n",
    "print(fps)\n",
    "import matplotlib.pylab as plt\n",
    "def superimposition_mask(x,y):\n",
    "    new = np.zeros(y.shape)\n",
    "    for i in range(y.shape[2]):\n",
    "        new[:,:,i] = x*y[:,:,i]\n",
    "    return new\n",
    "def mask(a, x1, x2, y1, y2, z1, z2):\n",
    "    h_min = np.array((x1, y1, z1), np.uint8)\n",
    "    h_max = np.array((x2, y2, z2), np.uint8)\n",
    "    return cv2.inRange(a, h_min, h_max)"
   ]
  },
  {
   "cell_type": "code",
   "execution_count": 33,
   "metadata": {},
   "outputs": [
    {
     "name": "stdout",
     "output_type": "stream",
     "text": [
      "[[[230 208 196]\n",
      "  [230 208 196]\n",
      "  [230 208 196]\n",
      "  ...\n",
      "  [ 19 125   0]\n",
      "  [ 19 125   0]\n",
      "  [ 19 125   0]]\n",
      "\n",
      " [[230 208 196]\n",
      "  [230 208 196]\n",
      "  [230 208 196]\n",
      "  ...\n",
      "  [ 19 125   0]\n",
      "  [ 19 125   0]\n",
      "  [ 19 125   0]]\n",
      "\n",
      " [[230 208 196]\n",
      "  [230 208 196]\n",
      "  [230 208 196]\n",
      "  ...\n",
      "  [ 19 125   0]\n",
      "  [ 19 125   0]\n",
      "  [ 19 125   0]]\n",
      "\n",
      " ...\n",
      "\n",
      " [[236 214 202]\n",
      "  [236 214 202]\n",
      "  [236 214 202]\n",
      "  ...\n",
      "  [ 24 131   0]\n",
      "  [ 23 130   0]\n",
      "  [ 23 130   0]]\n",
      "\n",
      " [[236 214 202]\n",
      "  [236 214 202]\n",
      "  [236 214 202]\n",
      "  ...\n",
      "  [ 23 130   0]\n",
      "  [ 23 130   0]\n",
      "  [ 23 130   0]]\n",
      "\n",
      " [[236 214 202]\n",
      "  [236 214 202]\n",
      "  [236 214 202]\n",
      "  ...\n",
      "  [ 23 130   0]\n",
      "  [ 23 130   0]\n",
      "  [ 23 130   0]]]\n",
      "None\n"
     ]
    },
    {
     "ename": "TypeError",
     "evalue": "argument of type 'NoneType' is not iterable",
     "output_type": "error",
     "traceback": [
      "\u001b[0;31m---------------------------------------------------------------------------\u001b[0m",
      "\u001b[0;31mTypeError\u001b[0m                                 Traceback (most recent call last)",
      "\u001b[0;32m<ipython-input-33-e5ba4e42c956>\u001b[0m in \u001b[0;36m<module>\u001b[0;34m()\u001b[0m\n\u001b[1;32m     40\u001b[0m     \u001b[0mcircles\u001b[0m \u001b[0;34m=\u001b[0m \u001b[0mcv2\u001b[0m\u001b[0;34m.\u001b[0m\u001b[0mHoughCircles\u001b[0m\u001b[0;34m(\u001b[0m\u001b[0mnew\u001b[0m\u001b[0;34m,\u001b[0m \u001b[0mcv2\u001b[0m\u001b[0;34m.\u001b[0m\u001b[0mHOUGH_GRADIENT\u001b[0m\u001b[0;34m,\u001b[0m\u001b[0;36m1\u001b[0m\u001b[0;34m,\u001b[0m\u001b[0;36m0.1\u001b[0m\u001b[0;34m,\u001b[0m\u001b[0mparam1\u001b[0m\u001b[0;34m=\u001b[0m\u001b[0;36m70\u001b[0m\u001b[0;34m,\u001b[0m\u001b[0mparam2\u001b[0m\u001b[0;34m=\u001b[0m\u001b[0;36m80\u001b[0m\u001b[0;34m,\u001b[0m\u001b[0mminRadius\u001b[0m\u001b[0;34m=\u001b[0m\u001b[0;36m10\u001b[0m\u001b[0;34m,\u001b[0m\u001b[0mmaxRadius\u001b[0m\u001b[0;34m=\u001b[0m\u001b[0;36m200\u001b[0m\u001b[0;34m)\u001b[0m\u001b[0;34m\u001b[0m\u001b[0;34m\u001b[0m\u001b[0m\n\u001b[1;32m     41\u001b[0m     \u001b[0mprint\u001b[0m\u001b[0;34m(\u001b[0m\u001b[0mcircles\u001b[0m\u001b[0;34m)\u001b[0m\u001b[0;34m\u001b[0m\u001b[0;34m\u001b[0m\u001b[0m\n\u001b[0;32m---> 42\u001b[0;31m     \u001b[0;32mif\u001b[0m \u001b[0;32mNone\u001b[0m \u001b[0;32mnot\u001b[0m \u001b[0;32min\u001b[0m  \u001b[0mcircles\u001b[0m\u001b[0;34m:\u001b[0m\u001b[0;34m\u001b[0m\u001b[0;34m\u001b[0m\u001b[0m\n\u001b[0m\u001b[1;32m     43\u001b[0m         \u001b[0mcircles\u001b[0m \u001b[0;34m=\u001b[0m \u001b[0mnp\u001b[0m\u001b[0;34m.\u001b[0m\u001b[0muint16\u001b[0m\u001b[0;34m(\u001b[0m\u001b[0mnp\u001b[0m\u001b[0;34m.\u001b[0m\u001b[0maround\u001b[0m\u001b[0;34m(\u001b[0m\u001b[0mcircles\u001b[0m\u001b[0;34m)\u001b[0m\u001b[0;34m)\u001b[0m\u001b[0;34m\u001b[0m\u001b[0;34m\u001b[0m\u001b[0m\n\u001b[1;32m     44\u001b[0m         \u001b[0;32mfor\u001b[0m \u001b[0mi\u001b[0m \u001b[0;32min\u001b[0m \u001b[0mcircles\u001b[0m\u001b[0;34m[\u001b[0m\u001b[0;36m0\u001b[0m\u001b[0;34m,\u001b[0m\u001b[0;34m:\u001b[0m\u001b[0;34m]\u001b[0m\u001b[0;34m:\u001b[0m\u001b[0;34m\u001b[0m\u001b[0;34m\u001b[0m\u001b[0m\n",
      "\u001b[0;31mTypeError\u001b[0m: argument of type 'NoneType' is not iterable"
     ]
    }
   ],
   "source": [
    "import cv2\n",
    "import numpy as np\n",
    "\n",
    "\n",
    "if __name__ == '__main__':\n",
    "    def nothing(*arg):\n",
    "        pass\n",
    "\n",
    "#cv2.namedWindow( \"result\" ) # создаем главное окно\n",
    "\n",
    "\n",
    "cap = cv2.VideoCapture(\"result_720.mp4\")\n",
    "\n",
    "\n",
    "crange = [0,0,0, 0,0,0]\n",
    "#i = 0\n",
    "while True:\n",
    "    ch = cv2.waitKey(45)\n",
    "    if ch == 23:\n",
    "        break\n",
    "    #if i != 10:\n",
    "        #i = 0\n",
    "        #continue\n",
    "   # else:\n",
    "        #i += 1\n",
    "    flag, img = cap.read()\n",
    "    hsv = cv2.cvtColor(img, cv2.COLOR_BGR2HSV )\n",
    " \n",
    "\n",
    "    # накладываем фильтр на кадр в модели HSV\n",
    "    thresh = mask(hsv, 0,238,166,255,157,255)\n",
    "   \n",
    "    new = superimposition_mask(thresh, img)\n",
    "    print( img)\n",
    "    new = new.astype(np.uint8)\n",
    "    new = cv2.medianBlur(new,5)\n",
    "    new = cv2.cvtColor(new, cv2.COLOR_BGR2GRAY)\n",
    "    #hsv = cv2.cvtColor(new, cv2.COLOR_HSV2BGR )\n",
    "    #hsv = cv2.cvtColor(hsv, cv2.COLOR_BGR2GRAY)\n",
    "    circles = cv2.HoughCircles(new, cv2.HOUGH_GRADIENT,1,0.1,param1=70,param2=80,minRadius=10,maxRadius=200)\n",
    "    print(circles)\n",
    "    if None not in  circles:\n",
    "        circles = np.uint16(np.around(circles))\n",
    "        for i in circles[0,:]:\n",
    "    # нарисовать центры окружностей\n",
    "            cv2.circle(cimg,(i[0],i[1]),i[2],(0,255,0),2)\n",
    "            cv2.circle(new,(i[0],i[1]),2,(0,0,255),3)\n",
    "    #cv2.imshow('result', new) \n",
    "        cv2.imwrite(\"new.jpg\",new)\n",
    "    ch = cv2.waitKey(33)\n",
    "    if ch == 27:\n",
    "        break\n",
    "\n",
    "cap.release()\n",
    "#cv2.destroyAllWindows()"
   ]
  },
  {
   "cell_type": "code",
   "execution_count": null,
   "metadata": {},
   "outputs": [],
   "source": [
    "cap = cv2.VideoCapture(\"result_720.mp4\")\n",
    "flag, img = cap.read()\n",
    "hsv = cv2.cvtColor(img, cv2.COLOR_BGR2HSV )\n",
    " \n",
    "h_min = np.array((110, 50, 50), np.uint8)\n",
    "h_max = np.array((130, 255, 255), np.uint8)\n",
    "\n",
    "    # накладываем фильтр на кадр в модели HSV\n",
    "thresh = cv2.inRange(hsv, h_min, h_max)\n",
    "\n",
    "\n",
    "nohsv = cv2.cvtColor(thresh, cv2.COLOR_HSV2BGR )\n",
    "nohsv = cv2.cvtColor(nohsv, cv2.COLOR_BGR2GRAY)\n",
    "circles = cv2.HoughCircles(nohsv,cv2.HOUGH_GRADIENT,1,20,param1=50,param2=30,minRadius=2,maxRadius=100)\n",
    "\n",
    "circles = np.uint16(np.around(circles))\n",
    "\n",
    "for i in circles[0,:]:\n",
    "    # нарисовать центры окружностей\n",
    "    cv2.circle(thresh,(i[0],i[1]),2,(0,0,255),3)\n",
    "cv2.imshow('result', nohsv) \n",
    "\n",
    "cap.release()\n",
    "cv2.imwrite('output.png',nohsv)\n",
    "cv2.destroyAllWindows()"
   ]
  },
  {
   "cell_type": "code",
   "execution_count": null,
   "metadata": {},
   "outputs": [],
   "source": [
    "cap = cv2.VideoCapture(\"result_720.mp4\")\n",
    "flag, img = cap.read()\n",
    "hsv = cv2.cvtColor(img, cv2.COLOR_BGR2HSV )\n",
    " \n",
    "h_min = np.array((100, 50, 50), np.uint8)\n",
    "h_max = np.array((140, 255, 255), np.uint8)\n",
    "\n",
    "    # накладываем фильтр на кадр в модели HSV\n",
    "thresh = cv2.inRange(hsv, h_min, h_max) /255\n",
    "def mask(x,y):\n",
    "    new = np.zeros(y.shape)\n",
    "    for i in range(y.shape[2]):\n",
    "        new[:,:,i] = x*y[:,:,i]\n",
    "    return new\n",
    "plt.imshow(mask(thresh, img))\n",
    "\n",
    "    \n",
    "        \n",
    "   \n"
   ]
  },
  {
   "cell_type": "code",
   "execution_count": null,
   "metadata": {},
   "outputs": [],
   "source": [
    "new = mask(thresh, img)\n",
    "print(new.shape)\n",
    "cv2.imwrite(\"new.jpg\",new)"
   ]
  },
  {
   "cell_type": "code",
   "execution_count": null,
   "metadata": {},
   "outputs": [],
   "source": [
    "z"
   ]
  }
 ],
 "metadata": {
  "kernelspec": {
   "display_name": "Python 3",
   "language": "python",
   "name": "python3"
  },
  "language_info": {
   "codemirror_mode": {
    "name": "ipython",
    "version": 3
   },
   "file_extension": ".py",
   "mimetype": "text/x-python",
   "name": "python",
   "nbconvert_exporter": "python",
   "pygments_lexer": "ipython3",
   "version": "3.7.2"
  }
 },
 "nbformat": 4,
 "nbformat_minor": 2
}
